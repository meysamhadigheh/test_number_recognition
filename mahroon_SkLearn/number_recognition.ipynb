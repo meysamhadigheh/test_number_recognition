{
  "cells": [
    {
      "cell_type": "code",
      "execution_count": 4,
      "metadata": {
        "collapsed": true,
        "id": "2hE6lYev_X2B"
      },
      "outputs": [],
      "source": [
        "# load_digits dataset, which is a collection of 8x8 images (64 features)of digits. The dataset contains a total of 1797 sample points.\n",
        "from sklearn.datasets import load_digits\n",
        "digits = load_digits()"
      ]
    },
    {
      "cell_type": "code",
      "execution_count": 11,
      "outputs": [
        {
          "output_type": "display_data",
          "data": {
            "text/plain": [
              "<Figure size 432x288 with 0 Axes>"
            ]
          },
          "metadata": {}
        },
        {
          "output_type": "display_data",
          "data": {
            "image/png": "[encoded data removed]",
            "text/plain": [
              "<Figure size 288x288 with 1 Axes>"
            ]
          },
          "metadata": {
            "needs_background": "light"
          }
        }
      ],
      "source": [
        "#visualize the  image of the handwritten digits stored in images\n",
        "import matplotlib.pyplot as plt \n",
        "plt.gray() \n",
        "plt.matshow(digits.images[1796]) \n",
        "plt.show()\n"
      ],
      "metadata": {
        "pycharm": {
          "name": "#%%\n"
        },
        "colab": {
          "base_uri": "https://localhost:8080/",
          "height": 292
        },
        "id": "M5Jki7EL_X2E",
        "outputId": "18ae5b6d-7134-4e72-df5c-c98ca13bce2c"
      }
    },
    {
      "cell_type": "code",
      "source": [
        "# retrive the label of image\n",
        "digits.target[1796]"
      ],
      "metadata": {
        "colab": {
          "base_uri": "https://localhost:8080/"
        },
        "id": "ewXsNDTdSrs_",
        "outputId": "9d06b60a-6b81-4cee-a04f-6e47f447b0fd"
      },
      "execution_count": 13,
      "outputs": [
        {
          "output_type": "execute_result",
          "data": {
            "text/plain": [
              "8"
            ]
          },
          "metadata": {},
          "execution_count": 13
        }
      ]
    },
    {
      "cell_type": "code",
      "source": [
        "#list all of the labels\n",
        "digits.target_names"
      ],
      "metadata": {
        "colab": {
          "base_uri": "https://localhost:8080/"
        },
        "id": "0dHSYTsYS4HJ",
        "outputId": "c6b4f657-3e16-447f-8223-19234276dfbd"
      },
      "execution_count": 16,
      "outputs": [
        {
          "output_type": "execute_result",
          "data": {
            "text/plain": [
              "array([0, 1, 2, 3, 4, 5, 6, 7, 8, 9])"
            ]
          },
          "metadata": {},
          "execution_count": 16
        }
      ]
    },
    {
      "cell_type": "code",
      "source": [
        "#Importing Relevant Libraries & Modules\n",
        "\n",
        "from sklearn import metrics\n",
        "from sklearn.metrics import accuracy_score\n",
        "from sklearn.model_selection import train_test_split"
      ],
      "metadata": {
        "id": "du2qySlNUFqb"
      },
      "execution_count": 18,
      "outputs": []
    },
    {
      "cell_type": "code",
      "source": [
        "#prepare the data for training by declaring a NumPy array data and reshaping it so that it has the first dimension equal to the length of the images\n",
        "n_samples = len(digits.images)\n",
        "data = digits.images.reshape((n_samples, -1))"
      ],
      "metadata": {
        "id": "RlYdbyPdXUyQ"
      },
      "execution_count": 26,
      "outputs": []
    },
    {
      "cell_type": "code",
      "source": [
        "#Splitting Data into Train and Test 50% training and 50% testing data\n",
        "X_train, X_test, y_train, y_test = train_test_split(\n",
        "    data, digits.target, test_size=0.3, shuffle=False)"
      ],
      "metadata": {
        "id": "dxiFONy3Xe-T"
      },
      "execution_count": 30,
      "outputs": []
    },
    {
      "cell_type": "code",
      "source": [
        "#Classification Report will give us the precision, recall, f1-score, support, and accuracy\n",
        "#the Confusion Matrix will show us the number of True Positives, False Positives, and False Negatives for each Classifier\n",
        "# We will use the following classifiers from Sklearn:\n",
        "# Support Vector Machine\n",
        "# Gaussian Naive Bayes\n",
        "# Decision Trees\n",
        "# Random Forest\n",
        "# K Nearest Neighbours\n",
        "# Stochastic Gradient Descent"
      ],
      "metadata": {
        "id": "Q_qkcTJbX4V_"
      },
      "execution_count": 31,
      "outputs": []
    },
    {
      "cell_type": "code",
      "source": [
        "#1. Support Vector Machines (SVM)\n",
        "from sklearn import svm\n",
        "svm_classifier = svm.SVC(gamma=0.001)\n",
        "svm_classifier.fit(X_train, y_train)\n",
        "predicted = svm_classifier.predict(X_test)\n",
        "_, axes = plt.subplots(2, 4)\n",
        "images_and_labels = list(zip(digits.images, digits.target))\n",
        "for ax, (image, label) in zip(axes[0, :], images_and_labels[:4]):\n",
        "    ax.set_axis_off()\n",
        "    ax.imshow(image, cmap=plt.cm.gray_r, interpolation='nearest')\n",
        "    ax.set_title('Training: %i' % label)\n",
        "    \n",
        "images_and_predictions = list(zip(digits.images[n_samples // 2:], predicted))\n",
        "for ax, (image, prediction) in zip(axes[1, :], images_and_predictions[:4]):\n",
        "    ax.set_axis_off()\n",
        "    ax.imshow(image, cmap=plt.cm.gray_r, interpolation='nearest')\n",
        "    ax.set_title('Prediction: %i' % prediction)\n",
        "print(\"\\nClassification report for classifier %s:\\n%s\\n\" % (svm_classifier, metrics.classification_report(y_test, predicted)))\n",
        "disp = metrics.plot_confusion_matrix(svm_classifier, X_test, y_test)\n",
        "disp.figure_.suptitle(\"Confusion Matrix\")\n",
        "print(\"\\nConfusion matrix:\\n%s\" % disp.confusion_matrix)\n",
        "print(\"\\nAccuracy of the Algorithm: \", svm_classifier.score(X_test, y_test))\n",
        "plt.show()"
      ],
      "metadata": {
        "colab": {
          "base_uri": "https://localhost:8080/",
          "height": 1000
        },
        "id": "XuiMCM3FZDH3",
        "outputId": "f0a39c1a-f449-432b-8992-ecfea13ce5b9"
      },
      "execution_count": 33,
      "outputs": [
        {
          "output_type": "stream",
          "name": "stdout",
          "text": [
            "\n",
            "Classification report for classifier SVC(gamma=0.001):\n",
            "              precision    recall  f1-score   support\n",
            "\n",
            "           0       1.00      0.98      0.99        53\n",
            "           1       0.96      1.00      0.98        53\n",
            "           2       1.00      0.98      0.99        53\n",
            "           3       0.96      0.89      0.92        53\n",
            "           4       0.98      0.95      0.96        57\n",
            "           5       0.95      0.98      0.96        56\n",
            "           6       0.98      0.98      0.98        54\n",
            "           7       1.00      1.00      1.00        54\n",
            "           8       0.91      0.98      0.94        52\n",
            "           9       0.96      0.96      0.96        55\n",
            "\n",
            "    accuracy                           0.97       540\n",
            "   macro avg       0.97      0.97      0.97       540\n",
            "weighted avg       0.97      0.97      0.97       540\n",
            "\n",
            "\n",
            "\n",
            "Confusion matrix:\n",
            "[[52  0  0  0  1  0  0  0  0  0]\n",
            " [ 0 53  0  0  0  0  0  0  0  0]\n",
            " [ 0  0 52  1  0  0  0  0  0  0]\n",
            " [ 0  0  0 47  0  2  0  0  4  0]\n",
            " [ 0  0  0  0 54  0  0  0  1  2]\n",
            " [ 0  0  0  0  0 55  1  0  0  0]\n",
            " [ 0  1  0  0  0  0 53  0  0  0]\n",
            " [ 0  0  0  0  0  0  0 54  0  0]\n",
            " [ 0  1  0  0  0  0  0  0 51  0]\n",
            " [ 0  0  0  1  0  1  0  0  0 53]]\n",
            "\n",
            "Accuracy of the Algorithm:  0.9703703703703703\n"
          ]
        },
        {
          "output_type": "stream",
          "name": "stderr",
          "text": [
            "/usr/local/lib/python3.7/dist-packages/sklearn/utils/deprecation.py:87: FutureWarning: Function plot_confusion_matrix is deprecated; Function `plot_confusion_matrix` is deprecated in 1.0 and will be removed in 1.2. Use one of the class methods: ConfusionMatrixDisplay.from_predictions or ConfusionMatrixDisplay.from_estimator.\n",
            "  warnings.warn(msg, category=FutureWarning)\n"
          ]
        },
        {
          "output_type": "display_data",
          "data": {
            "image/png": "[encoded data removed]",
            "text/plain": [
              "<Figure size 432x288 with 8 Axes>"
            ]
          },
          "metadata": {
            "needs_background": "light"
          }
        },
        {
          "output_type": "display_data",
          "data": {
            "image/png": "[encoded data removed]",
            "text/plain": [
              "<Figure size 432x288 with 2 Axes>"
            ]
          },
          "metadata": {
            "needs_background": "light"
          }
        }
      ]
    },
    {
      "cell_type": "code",
      "source": [
        "#2. Gaussian Naive Bayes\n",
        "from sklearn.naive_bayes import GaussianNB\n",
        "GNB_classifier = GaussianNB()\n",
        "GNB_classifier.fit(X_train, y_train)\n",
        "predicted = GNB_classifier.predict(X_test)\n",
        "_, axes = plt.subplots(2, 4)\n",
        "images_and_labels = list(zip(digits.images, digits.target))\n",
        "for ax, (image, label) in zip(axes[0, :], images_and_labels[:4]):\n",
        "    ax.set_axis_off()\n",
        "    ax.imshow(image, cmap=plt.cm.gray_r, interpolation='nearest')\n",
        "    ax.set_title('Training: %i' % label)\n",
        "    \n",
        "images_and_predictions = list(zip(digits.images[n_samples // 2:], predicted))\n",
        "for ax, (image, prediction) in zip(axes[1, :], images_and_predictions[:4]):\n",
        "    ax.set_axis_off()\n",
        "    ax.imshow(image, cmap=plt.cm.gray_r, interpolation='nearest')\n",
        "    ax.set_title('Prediction: %i' % prediction)\n",
        "print(\"\\nClassification report for classifier %s:\\n%s\\n\" % (GNB_classifier, metrics.classification_report(y_test, predicted)))\n",
        "disp = metrics.plot_confusion_matrix(GNB_classifier, X_test, y_test)\n",
        "disp.figure_.suptitle(\"Confusion Matrix\")\n",
        "print(\"\\nConfusion matrix:\\n%s\" % disp.confusion_matrix)\n",
        "print(\"\\nAccuracy of the Algorithm: \", GNB_classifier.score(X_test, y_test))\n",
        "plt.show()"
      ],
      "metadata": {
        "colab": {
          "base_uri": "https://localhost:8080/",
          "height": 1000
        },
        "id": "fZK5yVHlZH39",
        "outputId": "170835c9-3b4b-4506-c369-07ce72bdd8a7"
      },
      "execution_count": 34,
      "outputs": [
        {
          "output_type": "stream",
          "name": "stdout",
          "text": [
            "\n",
            "Classification report for classifier GaussianNB():\n",
            "              precision    recall  f1-score   support\n",
            "\n",
            "           0       0.96      0.96      0.96        53\n",
            "           1       0.65      0.79      0.71        53\n",
            "           2       0.98      0.81      0.89        53\n",
            "           3       0.92      0.64      0.76        53\n",
            "           4       1.00      0.86      0.92        57\n",
            "           5       0.83      0.93      0.87        56\n",
            "           6       0.96      0.98      0.97        54\n",
            "           7       0.73      0.83      0.78        54\n",
            "           8       0.59      0.71      0.64        52\n",
            "           9       0.82      0.73      0.77        55\n",
            "\n",
            "    accuracy                           0.83       540\n",
            "   macro avg       0.84      0.82      0.83       540\n",
            "weighted avg       0.84      0.83      0.83       540\n",
            "\n",
            "\n"
          ]
        },
        {
          "output_type": "stream",
          "name": "stderr",
          "text": [
            "/usr/local/lib/python3.7/dist-packages/sklearn/utils/deprecation.py:87: FutureWarning: Function plot_confusion_matrix is deprecated; Function `plot_confusion_matrix` is deprecated in 1.0 and will be removed in 1.2. Use one of the class methods: ConfusionMatrixDisplay.from_predictions or ConfusionMatrixDisplay.from_estimator.\n",
            "  warnings.warn(msg, category=FutureWarning)\n"
          ]
        },
        {
          "output_type": "stream",
          "name": "stdout",
          "text": [
            "\n",
            "Confusion matrix:\n",
            "[[51  0  0  0  0  0  0  0  2  0]\n",
            " [ 0 42  1  0  0  0  0  0  3  7]\n",
            " [ 0  5 43  1  0  0  1  0  1  2]\n",
            " [ 0  3  0 34  0  3  0  2 11  0]\n",
            " [ 1  0  0  0 49  0  0  6  1  0]\n",
            " [ 0  2  0  0  0 52  1  1  0  0]\n",
            " [ 0  1  0  0  0  0 53  0  0  0]\n",
            " [ 0  0  0  0  0  2  0 45  7  0]\n",
            " [ 0 11  0  1  0  1  0  2 37  0]\n",
            " [ 1  1  0  1  0  5  0  6  1 40]]\n",
            "\n",
            "Accuracy of the Algorithm:  0.825925925925926\n"
          ]
        },
        {
          "output_type": "display_data",
          "data": {
            "image/png": "[encoded data removed]",
            "text/plain": [
              "<Figure size 432x288 with 8 Axes>"
            ]
          },
          "metadata": {
            "needs_background": "light"
          }
        },
        {
          "output_type": "display_data",
          "data": {
            "image/png": "[encoded data removed]",
            "text/plain": [
              "<Figure size 432x288 with 2 Axes>"
            ]
          },
          "metadata": {
            "needs_background": "light"
          }
        }
      ]
    },
    {
      "cell_type": "code",
      "source": [
        "# 3. Decision Trees\n",
        "from sklearn import tree\n",
        "dt_classifier = tree.DecisionTreeClassifier()\n",
        "dt_classifier.fit(X_train, y_train)\n",
        "predicted = dt_classifier.predict(X_test)\n",
        "_, axes = plt.subplots(2, 4)\n",
        "images_and_labels = list(zip(digits.images, digits.target))\n",
        "for ax, (image, label) in zip(axes[0, :], images_and_labels[:4]):\n",
        "    ax.set_axis_off()\n",
        "    ax.imshow(image, cmap=plt.cm.gray_r, interpolation='nearest')\n",
        "    ax.set_title('Training: %i' % label)\n",
        "    \n",
        "images_and_predictions = list(zip(digits.images[n_samples // 2:], predicted))\n",
        "for ax, (image, prediction) in zip(axes[1, :], images_and_predictions[:4]):\n",
        "    ax.set_axis_off()\n",
        "    ax.imshow(image, cmap=plt.cm.gray_r, interpolation='nearest')\n",
        "    ax.set_title('Prediction: %i' % prediction)\n",
        "print(\"\\nClassification report for classifier %s:\\n%s\\n\" % (dt_classifier, metrics.classification_report(y_test, predicted)))\n",
        "disp = metrics.plot_confusion_matrix(dt_classifier, X_test, y_test)\n",
        "disp.figure_.suptitle(\"Confusion Matrix\")\n",
        "print(\"\\nConfusion matrix:\\n%s\" % disp.confusion_matrix)\n",
        "print(\"\\nAccuracy of the Algorithm: \", dt_classifier.score(X_test, y_test))\n",
        "plt.show()"
      ],
      "metadata": {
        "colab": {
          "base_uri": "https://localhost:8080/",
          "height": 1000
        },
        "id": "ZKUWCeKPanHm",
        "outputId": "e3df49fd-8c7b-43fa-bbb4-480ef0faabf5"
      },
      "execution_count": 36,
      "outputs": [
        {
          "output_type": "stream",
          "name": "stdout",
          "text": [
            "\n",
            "Classification report for classifier DecisionTreeClassifier():\n",
            "              precision    recall  f1-score   support\n",
            "\n",
            "           0       0.85      0.87      0.86        53\n",
            "           1       0.81      0.74      0.77        53\n",
            "           2       0.75      0.75      0.75        53\n",
            "           3       0.65      0.68      0.67        53\n",
            "           4       0.81      0.84      0.83        57\n",
            "           5       0.83      0.86      0.84        56\n",
            "           6       0.86      0.89      0.87        54\n",
            "           7       0.88      0.94      0.91        54\n",
            "           8       0.81      0.56      0.66        52\n",
            "           9       0.70      0.80      0.75        55\n",
            "\n",
            "    accuracy                           0.79       540\n",
            "   macro avg       0.80      0.79      0.79       540\n",
            "weighted avg       0.80      0.79      0.79       540\n",
            "\n",
            "\n",
            "\n",
            "Confusion matrix:\n",
            "[[46  0  4  0  1  0  1  0  0  1]\n",
            " [ 0 39  3  5  1  0  1  0  0  4]\n",
            " [ 2  1 40  5  0  0  2  1  2  0]\n",
            " [ 0  1  3 36  0  3  0  1  3  6]\n",
            " [ 3  0  0  1 48  0  2  1  0  2]\n",
            " [ 2  0  0  1  2 48  1  0  1  1]\n",
            " [ 0  1  0  0  3  2 48  0  0  0]\n",
            " [ 0  0  0  0  2  0  0 51  0  1]\n",
            " [ 0  5  3  5  1  0  1  4 29  4]\n",
            " [ 1  1  0  2  1  5  0  0  1 44]]\n",
            "\n",
            "Accuracy of the Algorithm:  0.7944444444444444\n"
          ]
        },
        {
          "output_type": "stream",
          "name": "stderr",
          "text": [
            "/usr/local/lib/python3.7/dist-packages/sklearn/utils/deprecation.py:87: FutureWarning: Function plot_confusion_matrix is deprecated; Function `plot_confusion_matrix` is deprecated in 1.0 and will be removed in 1.2. Use one of the class methods: ConfusionMatrixDisplay.from_predictions or ConfusionMatrixDisplay.from_estimator.\n",
            "  warnings.warn(msg, category=FutureWarning)\n"
          ]
        },
        {
          "output_type": "display_data",
          "data": {
            "image/png": "[encoded data removed]",
            "text/plain": [
              "<Figure size 432x288 with 8 Axes>"
            ]
          },
          "metadata": {
            "needs_background": "light"
          }
        },
        {
          "output_type": "display_data",
          "data": {
            "image/png": "[encoded data removed]",
            "text/plain": [
              "<Figure size 432x288 with 2 Axes>"
            ]
          },
          "metadata": {
            "needs_background": "light"
          }
        }
      ]
    }
  ],
  "metadata": {
    "kernelspec": {
      "display_name": "Python 3",
      "language": "python",
      "name": "python3"
    },
    "language_info": {
      "codemirror_mode": {
        "name": "ipython",
        "version": 2
      },
      "file_extension": ".py",
      "mimetype": "text/x-python",
      "name": "python",
      "nbconvert_exporter": "python",
      "pygments_lexer": "ipython2",
      "version": "2.7.6"
    },
    "colab": {
      "name": "number_recognition.ipynb",
      "provenance": []
    }
  },
  "nbformat": 4,
  "nbformat_minor": 0
}